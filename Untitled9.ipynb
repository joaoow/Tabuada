{
  "nbformat": 4,
  "nbformat_minor": 0,
  "metadata": {
    "colab": {
      "provenance": []
    },
    "kernelspec": {
      "name": "python3",
      "display_name": "Python 3"
    },
    "language_info": {
      "name": "python"
    }
  },
  "cells": [
    {
      "cell_type": "code",
      "execution_count": 2,
      "metadata": {
        "colab": {
          "base_uri": "https://localhost:8080/"
        },
        "id": "laKVJX2gp0V7",
        "outputId": "6226a035-3ab7-4a6c-bc9f-b83a0dd887d0"
      },
      "outputs": [
        {
          "output_type": "stream",
          "name": "stdout",
          "text": [
            "Digite um número para ver sua tabuada: 5\n",
            "-------------\n",
            "5 x 1 = 5\n",
            "5 x 2 = 10\n",
            "5 x 3 = 15\n",
            "5 x 4 = 20\n",
            "5 x 5 = 25\n",
            "5 x 6 = 30\n",
            "5 x 7 = 35\n",
            "5 x 8 = 40\n",
            "5 x 9 = 45\n",
            "5 x 10 = 50\n",
            "-------------\n"
          ]
        }
      ],
      "source": [
        "num =eval(input('Digite um número para ver sua tabuada: '))\n",
        "print('-' * 13)\n",
        "print('{} x {} = {}'.format(num, 1, num*1))\n",
        "print('{} x {} = {}'.format(num, 2, num*2))\n",
        "print('{} x {} = {}'.format(num, 3, num*3))\n",
        "print('{} x {} = {}'.format(num, 4, num*4))\n",
        "print('{} x {} = {}'.format(num, 5, num*5))\n",
        "print('{} x {} = {}'.format(num, 6, num*6))\n",
        "print('{} x {} = {}'.format(num, 7, num*7))\n",
        "print('{} x {} = {}'.format(num, 8, num*8))\n",
        "print('{} x {} = {}'.format(num, 9, num*9))\n",
        "print('{} x {} = {}'.format(num, 10, num*10))\n",
        "print('-' * 13)\n"
      ]
    }
  ]
}